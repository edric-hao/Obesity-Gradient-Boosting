{
  "cells": [
    {
      "cell_type": "code",
      "execution_count": null,
      "metadata": {
        "id": "NZJDpR8ZJuSZ"
      },
      "outputs": [],
      "source": [
        "import csv\n",
        "import numpy as np\n",
        "import pandas as pd"
      ]
    },
    {
      "cell_type": "code",
      "execution_count": null,
      "metadata": {
        "id": "Kwg1Am_NJfG8"
      },
      "outputs": [],
      "source": [
        "x = []\n",
        "y = []\n",
        "with open ('/content/data.csv') as file:\n",
        "  csv_reader = csv.reader(file)\n",
        "  for row in csv_reader:\n",
        "    if row[0]=='ID':\n",
        "      continue\n",
        "    datum = []\n",
        "    datum.append(float(row[3]))\n",
        "    datum.append(float(row[4]))\n",
        "    if row[1]=='Female':\n",
        "      datum.append(0)\n",
        "    else:\n",
        "      datum.append(1)\n",
        "    datum.append(float(row[2]))\n",
        "    bmi = float(row[4])/(float(row[3])**2)\n",
        "    datum.append(bmi)\n",
        "    if row[5]=='yes':\n",
        "      datum.append(0)\n",
        "    else:\n",
        "      datum.append(1)\n",
        "    if row[6]=='yes':\n",
        "      datum.append(0)\n",
        "    else:\n",
        "      datum.append(1)\n",
        "    datum.append(float(row[7]))\n",
        "    datum.append(float(row[8]))\n",
        "    if row[9]=='no':\n",
        "      datum.append(0)\n",
        "    elif row[9]=='Sometimes':\n",
        "      datum.append(1)\n",
        "    elif row[9]=='Frequently':\n",
        "      datum.append(2)\n",
        "    else:\n",
        "      datum.append(3)\n",
        "    #if row[10]=='yes':\n",
        "      #datum.append(0)\n",
        "    #else:\n",
        "      #datum.append(1)\n",
        "    datum.append(float(row[11]))\n",
        "    if row[12]=='yes':\n",
        "      datum.append(0)\n",
        "    else:\n",
        "      datum.append(1)\n",
        "    datum.append(float(row[13]))\n",
        "    datum.append(float(row[14]))\n",
        "    if row[15]=='no':\n",
        "      datum.append(0)\n",
        "    elif row[15]=='Sometimes':\n",
        "      datum.append(1)\n",
        "    elif row[15]=='Frequently':\n",
        "      datum.append(2)\n",
        "    else:\n",
        "      datum.append(3)\n",
        "    if row[16]=='Walking':\n",
        "      datum.append(0)\n",
        "    elif row[16]=='Bike':\n",
        "      datum.append(1)\n",
        "    elif row[16]=='Motorbike':\n",
        "      datum.append(2)\n",
        "    elif row[16]=='Automobile':\n",
        "      datum.append(3)\n",
        "    else:\n",
        "      datum.append(4)\n",
        "    if row[17]=='Insufficient_Weight':\n",
        "      y.append(0)\n",
        "    elif row[17]=='Normal_Weight':\n",
        "      y.append(1)\n",
        "    elif row[17]=='Overweight_Level_I':\n",
        "      y.append(2)\n",
        "    elif row[17]=='Overweight_Level_II':\n",
        "      y.append(3)\n",
        "    elif row[17]=='Obesity_Type_I':\n",
        "      y.append(4)\n",
        "    elif row[17]=='Obesity_Type_II':\n",
        "      y.append(5)\n",
        "    else:\n",
        "      y.append(6)\n",
        "    x.append(datum)\n",
        "print(x)\n",
        "print(y)\n",
        "x = np.array(x)\n",
        "y = np.array(y)"
      ]
    },
    {
      "cell_type": "code",
      "execution_count": null,
      "metadata": {
        "id": "lQfjIyfP_4yC"
      },
      "outputs": [],
      "source": [
        "!pip install optuna"
      ]
    },
    {
      "cell_type": "code",
      "execution_count": null,
      "metadata": {
        "id": "jl2AMvQEjOsi"
      },
      "outputs": [],
      "source": [
        "!pip install catboost"
      ]
    },
    {
      "cell_type": "code",
      "execution_count": null,
      "metadata": {
        "id": "vSX316C0nAHl"
      },
      "outputs": [],
      "source": [
        "from sklearn.model_selection import train_test_split\n",
        "from sklearn.metrics import accuracy_score\n",
        "from sklearn.metrics import classification_report\n",
        "import optuna\n",
        "from optuna.samplers import TPESampler\n",
        "import catboost"
      ]
    },
    {
      "cell_type": "code",
      "execution_count": null,
      "metadata": {
        "id": "n6RxZFedCdvu"
      },
      "outputs": [],
      "source": [
        "X_train, X_test, y_train, y_test = train_test_split(x, y, test_size=0.3, random_state=1)\n"
      ]
    },
    {
      "cell_type": "code",
      "execution_count": null,
      "metadata": {
        "id": "0J4QKTpkClHz"
      },
      "outputs": [],
      "source": [
        "model = catboost.CatBoostClassifier(verbose=False)\n",
        "model.fit(X_train, y_train)"
      ]
    },
    {
      "cell_type": "code",
      "execution_count": null,
      "metadata": {
        "id": "mQoBu3xUCn0V"
      },
      "outputs": [],
      "source": [
        "y_pred = model.predict(X_test)"
      ]
    },
    {
      "cell_type": "code",
      "source": [
        "accuracy = accuracy_score(y_test, y_pred)\n",
        "print(\"Accuracy: %.2f%%\" % (accuracy * 100.0))"
      ],
      "metadata": {
        "id": "W4d_hbCS_elL"
      },
      "execution_count": null,
      "outputs": []
    },
    {
      "cell_type": "code",
      "execution_count": null,
      "metadata": {
        "id": "Lpu93_zQCsVd"
      },
      "outputs": [],
      "source": [
        "print(classification_report(y_test, y_pred))"
      ]
    },
    {
      "cell_type": "code",
      "execution_count": null,
      "metadata": {
        "id": "wIc7j13iCvZY"
      },
      "outputs": [],
      "source": [
        "def objective(trial):\n",
        "    model = catboost.CatBoostClassifier(\n",
        "        iterations=trial.suggest_int(\"iterations\", 100, 1000),\n",
        "        learning_rate=trial.suggest_float(\"learning_rate\", 1e-3, 1e-1, log=True),\n",
        "        depth=trial.suggest_int(\"depth\", 4, 10),\n",
        "        l2_leaf_reg=trial.suggest_float(\"l2_leaf_reg\", 1e-8, 100.0, log=True),\n",
        "        bootstrap_type=trial.suggest_categorical(\"bootstrap_type\", [\"Bayesian\"]),\n",
        "        random_strength=trial.suggest_float(\"random_strength\", 1e-8, 10.0, log=True),\n",
        "        bagging_temperature=trial.suggest_float(\"bagging_temperature\", 0.0, 10.0),\n",
        "        od_type=trial.suggest_categorical(\"od_type\", [\"IncToDec\", \"Iter\"]),\n",
        "        od_wait=trial.suggest_int(\"od_wait\", 10, 50),\n",
        "        verbose=False\n",
        "    )\n",
        "    model.fit(X_train, y_train)\n",
        "    y_pred = model.predict(X_test)\n",
        "    return accuracy_score(y_test, y_pred)"
      ]
    },
    {
      "cell_type": "code",
      "execution_count": null,
      "metadata": {
        "id": "0tNziEzEC08Y"
      },
      "outputs": [],
      "source": [
        "optuna.logging.set_verbosity(optuna.logging.INFO)\n",
        "\n",
        "sampler = TPESampler(seed=1)\n",
        "study = optuna.create_study(study_name=\"catboost\", direction=\"maximize\", sampler=sampler)\n",
        "study.optimize(objective, n_trials=500)"
      ]
    },
    {
      "cell_type": "code",
      "execution_count": null,
      "metadata": {
        "id": "bPA73h0BC049"
      },
      "outputs": [],
      "source": [
        "print(\"Number of finished trials: \", len(study.trials))\n",
        "print(\"Best trial:\")\n",
        "trial = study.best_trial\n",
        "print(\"  Value: \", trial.value)\n",
        "print(\"  Params: \")\n",
        "for key, value in trial.params.items():\n",
        "    print(\"    {}: {}\".format(key, value))"
      ]
    },
    {
      "cell_type": "code",
      "source": [
        "model = catboost.CatBoostClassifier(**trial.params, verbose=False)\n",
        "model.fit(X_train, y_train)\n",
        "y_pred = model.predict(X_test)"
      ],
      "metadata": {
        "id": "_j0zev5jeXa7"
      },
      "execution_count": null,
      "outputs": []
    },
    {
      "cell_type": "code",
      "source": [
        "print(classification_report(y_test, y_pred))"
      ],
      "metadata": {
        "id": "TA6T8NWcedXJ"
      },
      "execution_count": null,
      "outputs": []
    },
    {
      "cell_type": "code",
      "source": [
        "!pip install shap"
      ],
      "metadata": {
        "id": "V7hBEdc14ycH"
      },
      "execution_count": null,
      "outputs": []
    },
    {
      "cell_type": "code",
      "source": [
        "import shap\n",
        "import matplotlib.pyplot as plt\n",
        "fig = plt.figure()\n",
        "shap_values = shap.TreeExplainer(model).shap_values(X_test)\n",
        "shap.summary_plot(shap_values, X_test, feature_names = ['Height', 'Weight', 'Gender', 'Age', 'BMI', 'family_history', 'FCHCF', 'FCV',\n",
        "                                                        'NMM', 'CFBM', 'CW', 'CCM', 'PAF', 'TUT', 'CA', 'Transportation']\n",
        "                                     , class_names = ['Insufficient_Weight', 'Normal_Weight', 'Overweight_Level_I', 'Overweight_Level_II',\n",
        "                                                         'Obesity_Level_I', 'Obesity_Level_II', 'Obesity_Level_III'], show = False\n",
        "                                     , class_inds = model.classes_)\n",
        "plt.gcf().set_size_inches(20,10)\n",
        "plt.show()"
      ],
      "metadata": {
        "id": "SoYCnawO5W_3"
      },
      "execution_count": null,
      "outputs": []
    },
    {
      "cell_type": "code",
      "source": [
        "from sklearn.model_selection import KFold, cross_val_score\n",
        "from sklearn.model_selection import StratifiedKFold\n",
        "model = catboost.CatBoostClassifier(**trial.params, verbose=False)\n",
        "skf = StratifiedKFold(n_splits=10)\n",
        "scores = cross_val_score(model, x, y, cv=skf)"
      ],
      "metadata": {
        "id": "15VL651AUIqs"
      },
      "execution_count": null,
      "outputs": []
    },
    {
      "cell_type": "code",
      "source": [
        "print(\"Cross Validation Scores: \", scores)\n",
        "print(\"Average CV: \", scores.mean())\n",
        "print(\"Number of CV Scores used in Average: \", len(scores))"
      ],
      "metadata": {
        "id": "yBvLaIswVfXM"
      },
      "execution_count": null,
      "outputs": []
    }
  ],
  "metadata": {
    "colab": {
      "provenance": []
    },
    "kernelspec": {
      "display_name": "Python 3",
      "name": "python3"
    },
    "language_info": {
      "name": "python"
    }
  },
  "nbformat": 4,
  "nbformat_minor": 0
}